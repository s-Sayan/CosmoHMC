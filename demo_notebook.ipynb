{
 "cells": [
  {
   "cell_type": "code",
   "execution_count": 1,
   "metadata": {},
   "outputs": [],
   "source": [
    "import cosmohmc"
   ]
  },
  {
   "cell_type": "code",
   "execution_count": 6,
   "metadata": {},
   "outputs": [
    {
     "data": {
      "text/plain": [
       "'Sampling from the universe!'"
      ]
     },
     "execution_count": 6,
     "metadata": {},
     "output_type": "execute_result"
    }
   ],
   "source": [
    "cosmohmc.sampler.hmcsampler(data=\"something\").sample()"
   ]
  },
  {
   "cell_type": "code",
   "execution_count": 2,
   "metadata": {},
   "outputs": [],
   "source": [
    "from cosmohmc import hmcsampler"
   ]
  },
  {
   "cell_type": "code",
   "execution_count": 4,
   "metadata": {},
   "outputs": [
    {
     "name": "stdout",
     "output_type": "stream",
     "text": [
      "Sampling from the universe!\n"
     ]
    }
   ],
   "source": [
    "from cosmohmc import HmcSampler\n",
    "\n",
    "# Assuming you have some cosmological data to analyze\n",
    "# For demonstration, let's just use a placeholder for the data\n",
    "cosmological_data = \"Placeholder for actual data\"\n",
    "\n",
    "# Initialize the sampler with your data\n",
    "sampler = HmcSampler(data=cosmological_data)\n",
    "\n",
    "# Use the sample method\n",
    "results = sampler.sample()\n",
    "\n",
    "# Print the results\n",
    "print(results)"
   ]
  },
  {
   "cell_type": "code",
   "execution_count": null,
   "metadata": {},
   "outputs": [],
   "source": []
  }
 ],
 "metadata": {
  "kernelspec": {
   "display_name": "Python 3.9.13 ('hmc': conda)",
   "language": "python",
   "name": "python3"
  },
  "language_info": {
   "codemirror_mode": {
    "name": "ipython",
    "version": 3
   },
   "file_extension": ".py",
   "mimetype": "text/x-python",
   "name": "python",
   "nbconvert_exporter": "python",
   "pygments_lexer": "ipython3",
   "version": "3.9.13"
  },
  "orig_nbformat": 4,
  "vscode": {
   "interpreter": {
    "hash": "8411678623c2e8c945d60f381fee8cbfd7d3b6e487d52962f429ec892d8a28ef"
   }
  }
 },
 "nbformat": 4,
 "nbformat_minor": 2
}
